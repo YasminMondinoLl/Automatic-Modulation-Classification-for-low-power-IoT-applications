{
 "cells": [
  {
   "cell_type": "code",
   "execution_count": null,
   "id": "a64faaea-06ea-40d0-b282-b381899cafd1",
   "metadata": {},
   "outputs": [],
   "source": [
    "import time\n",
    "import _pickle as cPickle\n",
    "\n",
    "import numpy as np\n",
    "from numpy.random import seed\n",
    "\n",
    "import pandas as pd\n",
    "\n",
    "import matplotlib.pyplot as plt\n",
    "%matplotlib widget\n",
    "\n",
    "from scipy.fft import fft, fftfreq, fftshift\n",
    "from scipy.signal import find_peaks, savgol_filter\n",
    "\n",
    "from sklearn.metrics import accuracy_score, f1_score\n",
    "from sklearn.model_selection import train_test_split\n",
    "\n",
    "from tensorflow.random import set_seed\n",
    "from tensorflow.keras.models import Sequential\n",
    "from tensorflow.keras.layers import Dense, BatchNormalization\n",
    "from tensorflow.keras.optimizers import Adam\n",
    "\n",
    "from keras import callbacks \n"
   ]
  },
  {
   "cell_type": "markdown",
   "id": "4d208baf-cb1e-4d69-b9d0-b992df2e6c88",
   "metadata": {},
   "source": [
    "**test**: This variable corresponds to the name to be used to save the results of the test."
   ]
  },
  {
   "cell_type": "code",
   "execution_count": null,
   "id": "86d88c27-aa2c-42d6-b292-92029e87fa6a",
   "metadata": {},
   "outputs": [],
   "source": [
    "test = 'test1'"
   ]
  },
  {
   "cell_type": "markdown",
   "id": "c40a8d5c-edce-401c-825e-88f9c62d1df3",
   "metadata": {},
   "source": [
    "We import the dataset used for this test: **RadioML 2016.10A**.\n",
    "<br>\n",
    "This dataset can be found in https://www.deepsig.ai/datasets/"
   ]
  },
  {
   "cell_type": "code",
   "execution_count": null,
   "id": "4dc7b4fc-5a88-4724-ab32-d4c2c0f1a87a",
   "metadata": {},
   "outputs": [],
   "source": [
    "Xd = pd.read_pickle(\"/home/ymondino/Documents/repos/machinelearning/RML2016/RML2016.10a_dict.pkl\")"
   ]
  },
  {
   "cell_type": "markdown",
   "id": "65211fe4-a281-49f1-8a15-2412c55d38d4",
   "metadata": {},
   "source": [
    "The variables **snrs** and **mods** contain all the SNR values and modulation types that exist in the dataset."
   ]
  },
  {
   "cell_type": "code",
   "execution_count": null,
   "id": "b13bfd86-2fa2-47ee-a371-22416331905c",
   "metadata": {},
   "outputs": [],
   "source": [
    "snrs, mods = map(lambda j: sorted(set(map(lambda x: x[j], Xd.keys()))), [1,0])"
   ]
  },
  {
   "cell_type": "markdown",
   "id": "41f2631e-b8b2-4932-9735-10e8e8ae28a2",
   "metadata": {},
   "source": [
    "We do not make use of all SNR values, so **usedSnr** contains the used SNR values for training, testing and validating the model."
   ]
  },
  {
   "cell_type": "code",
   "execution_count": null,
   "id": "19052856-16e8-4046-b7e2-54b6fe0be335",
   "metadata": {},
   "outputs": [],
   "source": [
    "usedSnr = [ -10, -8, -6, -4, -2, 0, 2, 4, 6, 8, 10, 12, 14, 16, 18] "
   ]
  },
  {
   "cell_type": "markdown",
   "id": "d98f33cd-e236-4eda-bd25-66b0ea72485f",
   "metadata": {},
   "source": [
    "The variable **X** contains the signals that will be used for training, testing and validating the model. While **lbl** contains the information about the modulation type and SNR value of each of these signals."
   ]
  },
  {
   "cell_type": "code",
   "execution_count": null,
   "id": "93c59df4-e8fd-410d-b034-fec14cc2dadb",
   "metadata": {},
   "outputs": [],
   "source": [
    "X = []  \n",
    "lbl = []\n",
    "\n",
    "for mod in mods:\n",
    "    for snr in usedSnr:\n",
    "        X.append(Xd[(mod,snr)]) \n",
    "        for i in range(Xd[(mod,snr)].shape[0]):  lbl.append((mod,snr))\n",
    "X = np.vstack(X)\n",
    "X.shape"
   ]
  },
  {
   "cell_type": "markdown",
   "id": "d8570271-a8d3-4d05-9727-b6654b303e60",
   "metadata": {},
   "source": [
    "**X_mods** contains only the information about modulation type of each signal example."
   ]
  },
  {
   "cell_type": "code",
   "execution_count": null,
   "id": "1f72bf5b-835a-44cb-8f88-0116d06be578",
   "metadata": {},
   "outputs": [],
   "source": [
    "X_mods = np.array(list(map(lambda x: lbl[x][0],range(0,len(lbl)))))\n",
    "len(X_mods)"
   ]
  },
  {
   "cell_type": "markdown",
   "id": "ac4c287d-7c6c-4188-a9db-ef184fec7017",
   "metadata": {},
   "source": [
    "**mods** contains the list of modulation types that we will use in this classifier."
   ]
  },
  {
   "cell_type": "code",
   "execution_count": null,
   "id": "b28959fe-ac8e-430d-bdfa-c0da59293369",
   "metadata": {},
   "outputs": [],
   "source": [
    "mods = ['BPSK','QAM16','QPSK','8PSK','GFSK','CPFSK','PAM4']"
   ]
  },
  {
   "cell_type": "markdown",
   "id": "3b6e3542-b565-4cb5-b131-6b06265592af",
   "metadata": {},
   "source": [
    "Each combination of SNR value and modulation type has 1000 signal examples, we choose 600 of these 1000 signals to be used for testing the model."
   ]
  },
  {
   "cell_type": "code",
   "execution_count": null,
   "id": "c3aacfd5-3f80-4d42-99e7-b2822efa0287",
   "metadata": {},
   "outputs": [],
   "source": [
    "n_examples = 1000\n",
    "\n",
    "n_test = 600       \n",
    "\n",
    "test_idx = np.random.choice(list(set(range(0, n_examples))), size = n_test, replace = False)\n",
    "\n",
    "test_idx[0:5]"
   ]
  },
  {
   "cell_type": "markdown",
   "id": "137644f9-c8a5-4aa4-8ad1-aba1bda59236",
   "metadata": {},
   "source": [
    "**dataset** contains the identification of the 400 signal examples, of each combination of SNR value and modulation type, used for training and validating the model."
   ]
  },
  {
   "cell_type": "code",
   "execution_count": null,
   "id": "f3d9a065-0d0a-460e-bca4-1af18ecf2810",
   "metadata": {},
   "outputs": [],
   "source": [
    "dataset = np.random.choice(list(set(range(0, n_examples)) - set(test_idx)), size = 400, replace = False)\n",
    "len(dataset)"
   ]
  },
  {
   "cell_type": "markdown",
   "id": "c7e707f1-5e44-4808-9f46-83b20287d822",
   "metadata": {},
   "source": [
    "**calcFeatures** calculates all the input features of the neural network.\n",
    "<br><br>\n",
    "PARAMETERS:\n",
    "    <br>- **X**: Signal examples.\n",
    "    <br>- **idx**: Indexes of the signal examples to consider from all the ones contained in X.\n",
    "    <br>- **X_mods**: Modulation types of the signal examples in X.\n",
    "    <br>- **lbl**: Information of modulation type and SNR value of the signal examples in X.\n",
    "    <br>- **usedSnr**: List of SNR values present in X.\n",
    "<br><br>\n",
    "RETURNS:\n",
    "    <br>- Nine arrays (one for each feature) with the calculated feature values for each of the signal examples."
   ]
  },
  {
   "cell_type": "code",
   "execution_count": null,
   "id": "03529d44-1f6d-4c2a-99ee-6849ce800bef",
   "metadata": {},
   "outputs": [],
   "source": [
    "def calcFeatures (X, idx, mods, X_mods, lbl, usedSnr):\n",
    "      \n",
    "    n_train = len(idx)\n",
    "    n_snr = len(usedSnr)\n",
    "    \n",
    "    C20_values = np.zeros((len(mods) * n_snr, n_train))\n",
    "    C60_values = np.zeros((len(mods) * n_snr, n_train))\n",
    "    \n",
    "    skewness_values = np.zeros((len(mods) * n_snr, n_train))\n",
    "    skewness_f_values = np.zeros((len(mods) * n_snr, n_train))\n",
    "    \n",
    "    sigma_v_values = np.zeros((len(mods) * n_snr, n_train))\n",
    "    sigma_deltap_values = np.zeros((len(mods) * n_snr, n_train)) \n",
    "    \n",
    "    std_amp_values = np.zeros((len(mods) * n_snr, n_train))\n",
    "    mean_amp_values = np.zeros((len(mods) * n_snr, n_train))\n",
    "    mean_temp_values = np.zeros((len(mods) * n_snr, n_train))\n",
    "        \n",
    "    for i,mod in enumerate (mods): \n",
    "        idx_sameMod = np.where(np.array(X_mods) == mod)[0]\n",
    "        X_sameMod = X[idx_sameMod]  \n",
    "        \n",
    "        for j,snr in enumerate (usedSnr):  \n",
    "            snr_sameMod = np.array(list(map(lambda x: lbl[x][1], idx_sameMod)))\n",
    "            idx_sameMod_snr = np.where(np.array(snr_sameMod) == snr)[0]\n",
    "            X_sameMod_snr = X_sameMod[idx_sameMod_snr]   \n",
    "            \n",
    "            X_idx = X_sameMod_snr[idx]\n",
    "\n",
    "            for ex in range(0, X_idx.shape[0]):\n",
    "                \n",
    "                X_0 = X_idx[ex][0]\n",
    "                X_1 = X_idx[ex][1]\n",
    "                \n",
    "\n",
    "                signal = X_0 + X_1 * 1j\n",
    "                \n",
    "                # The next normalization is the one implemented on the public dataset.\n",
    "                # We implement it in the same way to normalize the cases when the signals are interfered\n",
    "                ener = sum(abs(signal))\n",
    "                signal = signal / np.sqrt(ener)\n",
    "                \n",
    "                ampli = abs(signal) \n",
    "                \n",
    "                X_0 = np.real(signal)\n",
    "                X_1 = np.imag(signal)\n",
    "                \n",
    "                ma = ampli.mean() \n",
    "                \n",
    "                acn = ampli / ma - 1\n",
    "                \n",
    "                #------------------------\n",
    "                \n",
    "                C20_values[j + i*n_snr][ex] = abs((signal**2).mean())\n",
    "                \n",
    "                #------------------------\n",
    "                \n",
    "                M20 = (signal**2).mean()\n",
    "                \n",
    "                M40 = (signal**4).mean()\n",
    "                \n",
    "                M60 = (signal**6).mean()\n",
    "                \n",
    "                C60_value = M60 - 15 * M20 * M40 + 3 * M20**3\n",
    "                \n",
    "                C60_values[j + i*n_snr][ex] = abs(C60_value)**(2/6)\n",
    "                \n",
    "                #-----------------------\n",
    "                \n",
    "                num = ((ampli - ma)**3).mean()\n",
    "                \n",
    "                den = ((ampli - ma)**2).mean()\n",
    "                den = den**(3/2)\n",
    "                \n",
    "                skewness_values[j + i*n_snr][ex] = abs(num / den)\n",
    "                \n",
    "                #-----------------------\n",
    "                \n",
    "                R = fft(signal)\n",
    "                R = fftshift(R)\n",
    "                \n",
    "                mu = R.mean()\n",
    "                \n",
    "                sigma = ((R - mu) * np.conj(R - mu)).mean()\n",
    "                \n",
    "                num = ((R - mu)**3).mean()\n",
    "                \n",
    "                den = sigma**(3/2)\n",
    "                \n",
    "                skewness_f_values[j + i*n_snr][ex] = abs(num / den)\n",
    "                \n",
    "                #-------------------------\n",
    "                \n",
    "                a = np.sqrt(ampli / ampli.var()) - 1\n",
    "                \n",
    "                \n",
    "                sigma_v_values[j + i*n_snr][ex] = a.std()\n",
    "                \n",
    "                #-------------------------\n",
    "                \n",
    "                frec = 1/(2 * np.pi) * 1 / (1 + (X_1 / X_0)**2)\n",
    "                \n",
    "                sigma_deltap_values[j + i*n_snr][ex] = frec.std()\n",
    "                \n",
    "                #-------------------------\n",
    "                \n",
    "                X0_f = savgol_filter(X_0, 7, 2)\n",
    "                X1_f = savgol_filter(X_1, 7, 2)\n",
    "\n",
    "                ampli_f = np.sqrt(np.square(X0_f) + np.square(X1_f)) \n",
    "\n",
    "                peaks, _ = find_peaks(ampli_f, distance = 2) \n",
    "                negPeaks,_ = find_peaks(-ampli_f, distance = 2)\n",
    "    \n",
    "                allPeaks = np.concatenate((peaks, negPeaks, [0]))\n",
    "                allPeaks = np.sort(allPeaks)\n",
    "\n",
    "                ampSeg = []\n",
    "                tempSeg = []\n",
    "\n",
    "                for indx in range(0, len(allPeaks) - 1):\n",
    "                    ampSeg.append(abs(ampli_f[allPeaks[indx + 1]] - ampli_f[allPeaks[indx]]))\n",
    "                    tempSeg.append(allPeaks[indx + 1] - allPeaks[indx])\n",
    "                    \n",
    "                ampSeg = np.array(ampSeg)\n",
    "     \n",
    "                mean_amp_values[j + i*n_snr][ex] = ampSeg.mean()\n",
    "        \n",
    "                tempSeg = np.array(tempSeg)\n",
    "     \n",
    "                mean_temp_values[j + i*n_snr][ex] = tempSeg.mean()\n",
    "        \n",
    "                #--------------------------\n",
    "            \n",
    "                ampSeg = ampSeg - ampSeg.mean()\n",
    "     \n",
    "                std_amp_values[j + i*n_snr][ex] = sum(abs(ampSeg)) / len(ampSeg)\n",
    "        \n",
    "                \n",
    "    return  C20_values, skewness_f_values, sigma_v_values, \\\n",
    "    std_amp_values, mean_amp_values, skewness_values, \\\n",
    "    sigma_deltap_values, C60_values, mean_temp_values"
   ]
  },
  {
   "cell_type": "markdown",
   "id": "9033e6c9-a1c0-4f0f-8db5-3965f4b9ee6f",
   "metadata": {},
   "source": [
    "**generate_data_array** generates the input data array of the neural network.\n",
    "<br><br>\n",
    "PARAMETERS:\n",
    "    <br>- **X**: Signal examples.\n",
    "    <br>- **idx**: Indexes of the signal examples to consider from all the ones contained in X.\n",
    "    <br>- **X_mods**: Modulation types of the signal examples in X.\n",
    "    <br>- **lbl**: Information of modulation type and SNR value of the signal examples in X.\n",
    "    <br>- **usedSnr**: List of SNR values present in X.\n",
    "<br><br>\n",
    "RETURNS:\n",
    "    <br>- One matrix that contains all the input features of the neural network."
   ]
  },
  {
   "cell_type": "code",
   "execution_count": null,
   "id": "9b282404-a009-438a-99d1-8554f294723a",
   "metadata": {},
   "outputs": [],
   "source": [
    "def generate_data_array(X, idx, mods, X_mods, lbl, usedSnr):\n",
    " \n",
    "\n",
    "    C20_values, skewness_f_values, sigma_v_values, \\\n",
    "    std_amp_values, mean_amp_values, skewness_values, \\\n",
    "    sigma_deltap_values, C60_values, mean_temp_values = calcFeatures (X, idx, mods, X_mods, lbl, usedSnr)  \n",
    "    \n",
    "    X_all = np.hstack(( \\\n",
    "                        C20_values[0].reshape(-1, 1), \\\n",
    "                        C60_values[0].reshape(-1, 1), \\\n",
    "                        skewness_values[0].reshape(-1, 1), \\\n",
    "                        skewness_f_values[0].reshape(-1, 1), \\\n",
    "                        sigma_v_values[0].reshape(-1, 1), \\\n",
    "                        sigma_deltap_values[0].reshape(-1, 1), \\\n",
    "                        std_amp_values[0].reshape(-1, 1), \\\n",
    "                        mean_amp_values[0].reshape(-1, 1), \\\n",
    "                        mean_temp_values[0].reshape(-1, 1) \\\n",
    "                     ))\n",
    "\n",
    "\n",
    "    for p in range(1, len(usedSnr) * len(mods)):\n",
    "        X_data = np.hstack((\\\n",
    "                        C20_values[p].reshape(-1, 1), \\\n",
    "                        C60_values[p].reshape(-1, 1), \\\n",
    "                        skewness_values[p].reshape(-1, 1), \\\n",
    "                        skewness_f_values[p].reshape(-1, 1), \\\n",
    "                        sigma_v_values[p].reshape(-1, 1), \\\n",
    "                        sigma_deltap_values[p].reshape(-1, 1), \\\n",
    "                        std_amp_values[p].reshape(-1, 1), \\\n",
    "                        mean_amp_values[p].reshape(-1, 1), \\\n",
    "                        mean_temp_values[p].reshape(-1, 1) \\\n",
    "                           ))\n",
    "\n",
    "        X_all = np.vstack((X_all, X_data))\n",
    "\n",
    "    return X_all"
   ]
  },
  {
   "cell_type": "markdown",
   "id": "e43198c9-187d-45e2-8ee7-9d5ab17a74a9",
   "metadata": {},
   "source": [
    "**createY** expresses the modulation type of each signal example in one-hot encoding format and with an int value between 0 and 6. \n",
    "<br><br>\n",
    "PARAMETERS:\n",
    "    <br>- **idx**: Indexes of the signal examples that will be used. This parameter is just used to know the amount of signal examples of each combination of moulation type and SNR value are being used.\n",
    "    <br>- **X_mods**: List of modulation types that are being used.\n",
    "    <br>- **usedSnr**: List of SNR values that are being used.\n",
    "<br><br>\n",
    "RETURNS:\n",
    "    <br>- **Y**: Modulation types expressed in one-hot encoding format.\n",
    "    <br>- **Y_Classes**: Modulation types expressed with an int number."
   ]
  },
  {
   "cell_type": "code",
   "execution_count": null,
   "id": "da440e9f-0dcc-42a0-a77f-50cc8614472c",
   "metadata": {},
   "outputs": [],
   "source": [
    "def createY(idx, mods, usedSnr):\n",
    "    Y_Classes = []\n",
    "    num_examples = len(idx)\n",
    "    num_snr = len(usedSnr)\n",
    "\n",
    "    for mod_indx in range(0, len(mods)):\n",
    "        Y_Classes = Y_Classes + [mod_indx for i in range (num_examples * num_snr)]\n",
    "\n",
    "    def to_onehot(yy):\n",
    "        yy1 = np.zeros([len(yy), max(yy) + 1])\n",
    "        yy1[np.arange(len(yy)),yy] = 1\n",
    "        return yy1\n",
    "\n",
    "    Y = to_onehot(Y_Classes)\n",
    "    \n",
    "    return Y, Y_Classes\n"
   ]
  },
  {
   "cell_type": "markdown",
   "id": "52654bf8-8898-429d-8d61-9a05c5203cae",
   "metadata": {},
   "source": [
    "We define 2 general training parameters: **number of training epochs** and **batch size**. We also specify the path where to save the model weights."
   ]
  },
  {
   "cell_type": "code",
   "execution_count": null,
   "id": "95e5f6bd-99b5-4045-a839-7374066d31f5",
   "metadata": {},
   "outputs": [],
   "source": [
    "nb_epoch = 1000     \n",
    "batch_size = 50\n",
    "\n",
    "filepath = 'revision/probando/train_'+ test + '.h5'"
   ]
  },
  {
   "cell_type": "markdown",
   "id": "eb634e9e-b609-4101-b0fd-b8be24510dcb",
   "metadata": {},
   "source": [
    "**generateNeuralNetwork** generates the Neural Network Model. \n",
    "<br><br>\n",
    "PARAMETERS:\n",
    "    <br>- **X_shape**: Number of input features.\n",
    "    <br>- **Y_shape**: Number of output nodes.\n",
    "    <br>- **n_neurons**: Number of neurons in the hidden layer.\n",
    "    <br>- **lr**: Learning rate.\n",
    "<br><br>\n",
    "RETURNS:\n",
    "    <br>- **model**: Proposed Neural Network Model ready to be trained."
   ]
  },
  {
   "cell_type": "code",
   "execution_count": null,
   "id": "f8c5149a-0acc-40c6-84b7-bf35803573db",
   "metadata": {},
   "outputs": [],
   "source": [
    "def generateNeuralNetwork(X_shape, Y_shape, n_neurons, lr):\n",
    "    \n",
    "    model = Sequential()\n",
    "    \n",
    "    model.add(BatchNormalization(input_shape = (X_shape,)))\n",
    "    \n",
    "    model.add(Dense(n_neurons, activation = 'relu',name = \"dense1\"))\n",
    "    \n",
    "    model.add(Dense(Y_shape, activation = 'softmax', name = \"dense2\"))\n",
    "    \n",
    "    optA = Adam(learning_rate = lr)\n",
    "    \n",
    "    model.compile(loss = 'categorical_crossentropy', optimizer = optA, metrics = ['accuracy'])\n",
    "    \n",
    "    return model"
   ]
  },
  {
   "cell_type": "markdown",
   "id": "07cfb3db-7d6e-4607-9256-1091a6aa065f",
   "metadata": {},
   "source": [
    "The training and testing of the model is repeated **iterations** times. \n",
    "<br>\n",
    "We generate a dictionary with the testing results of each iteration. This dictionary contains the accuracy and f1 scores for the signal examples of each combination of SNR value and modulation type."
   ]
  },
  {
   "cell_type": "code",
   "execution_count": null,
   "id": "b50795ff-332e-4dd1-bc70-553a987d0b5d",
   "metadata": {},
   "outputs": [],
   "source": [
    "data_dict = pd.DataFrame()\n",
    "\n",
    "iterations = 10\n",
    "\n",
    "for it in range(iterations): \n",
    "    dataset = np.random.choice(list(set(range(0, 1000)) - set(test_idx)), size = 200, replace = False)\n",
    "    \n",
    "    inicio = time.time()\n",
    "    \n",
    "    X_train = generate_data_array(X, dataset, mods, X_mods, lbl, usedSnr)\n",
    "    Y_train, Y_trainClasses = createY(dataset, mods, usedSnr)\n",
    "    \n",
    "    model = generateNeuralNetwork(X_train.shape[1], Y_train.shape[1], 15, 0.005)\n",
    "    \n",
    "    X_tr, X_val, Y_tr, Y_val = train_test_split(X_train, Y_train, test_size = 0.2)\n",
    "    \n",
    "    \n",
    "    history = model.fit(\n",
    "                    X_tr,\n",
    "                    Y_tr,\n",
    "                    batch_size = batch_size,\n",
    "                    epochs = nb_epoch,\n",
    "                    verbose = 0,\n",
    "                    validation_data = (X_val, Y_val),\n",
    "                    callbacks = [\n",
    "                        callbacks.ModelCheckpoint(filepath, monitor = 'val_loss', verbose = 0, save_best_only = True, mode = 'auto'),\n",
    "                        callbacks.EarlyStopping(monitor = 'val_loss', patience = 25, verbose = 0, mode = 'auto')\n",
    "                        ]\n",
    "                    )\n",
    "    \n",
    "    model.load_weights(filepath)\n",
    "    \n",
    "    fin = time.time()\n",
    "    \n",
    "    print(f\"Iteration {it}: {(fin - inicio) / 60} minutes\")\n",
    "    \n",
    "    acc = np.zeros(len(range(-10, 20, 2)))\n",
    "    f1 = np.zeros(len(range(-10, 20, 2)))\n",
    "    \n",
    "    \n",
    "    for j,snr in enumerate(range(-10, 20, 2)):    \n",
    "        X_same_snr = []  \n",
    "        lbl_same_snr = []\n",
    "        \n",
    "        for mod in mods:\n",
    "                X_same_snr.append(Xd[(mod, snr)])\n",
    "                for i in range(Xd[(mod,snr)].shape[0]):  lbl_same_snr.append((mod,snr))\n",
    "\n",
    "\n",
    "        X_same_snr = np.vstack(X_same_snr)\n",
    "\n",
    "        X_mods_same_snr = np.array(list(map(lambda x: lbl_same_snr[x][0], range(0, len(lbl_same_snr)))))\n",
    "\n",
    "        X_test = generate_data_array(X_same_snr, test_idx, mods, X_mods_same_snr, lbl_same_snr, [snr])\n",
    "\n",
    "        Y_test, Y_testClasses = createY(test_idx, mods, [snr])\n",
    "\n",
    "        predictedClasses =  np.argmax(model.predict(X_test), axis = -1)\n",
    "\n",
    "        acc = accuracy_score(Y_testClasses, predictedClasses)\n",
    "\n",
    "        f1 = f1_score(Y_testClasses, predictedClasses, average = None)\n",
    "        \n",
    "        data_dict_i = pd.DataFrame({'it' : it, 'SNR' : snr, 'mod' : mods, 'acc' : acc, 'f1' : f1})\n",
    "        data_dict = pd.concat([data_dict, data_dict_i])\n",
    "    \n",
    "data_dict.to_csv('revision/probando/data_' + test + '.csv',index = False)"
   ]
  },
  {
   "cell_type": "markdown",
   "id": "cf72f167-ce9d-461f-af0e-74cd3cfb7746",
   "metadata": {},
   "source": [
    "We calculate the average accuracy and f1 score."
   ]
  },
  {
   "cell_type": "code",
   "execution_count": null,
   "id": "0150921c-d9da-4171-b9f0-4fe180487633",
   "metadata": {},
   "outputs": [],
   "source": [
    "p = pd.read_csv('revision/probando/data_' + test + '.csv')  \n",
    "\n",
    "acc_mean = np.zeros((15, 1))\n",
    "f1_mean = np.zeros((15, 1))\n",
    "\n",
    "for i, snr in enumerate(range(-10, 20, 2)):\n",
    "    acc_mean[i] = p.loc[p['SNR'] == snr]['acc'].mean()*100\n",
    "    f1_mean[i] = p.loc[p['SNR'] == snr]['f1'].mean()\n",
    "\n",
    "print(f\"acc: {acc_mean.mean()}\")\n",
    "print(f\"f1: {f1_mean.mean()}\")"
   ]
  },
  {
   "cell_type": "markdown",
   "id": "1d65cbe3-7574-4f11-a1f9-6771695433f7",
   "metadata": {},
   "source": [
    "We plot the mean accuracy for each SNR value."
   ]
  },
  {
   "cell_type": "code",
   "execution_count": null,
   "id": "1b26c363-256e-4557-9a11-cf719a695616",
   "metadata": {},
   "outputs": [],
   "source": [
    "p = pd.read_csv('revision/probando/data_' + test + '.csv')  \n",
    "\n",
    "acc_mean = np.zeros((15, 1))\n",
    "acc_std = np.zeros((15, 1))\n",
    "\n",
    "for i,snr in enumerate(range(-10, 20, 2)):\n",
    "    acc_mean[i] = p.loc[p['SNR'] == snr]['acc'].mean() * 100\n",
    "    acc_std[i] = p.loc[p['SNR'] == snr]['acc'].std() * 100\n",
    "    \n",
    "    \n",
    "fig, ax = plt.subplots()\n",
    "plt.plot(range(-10, 20, 2), acc_mean, 'C0-', label = 'Proposed model')\n",
    "\n",
    "plt.grid(True)\n",
    "\n",
    "ax.set_xticks(range(-10, 20, 5))\n",
    "ax.set_yticks(range(0, 100, 10))\n",
    "plt.xlabel('SNR [dB]', fontsize = 13)\n",
    "plt.ylabel('Acc [%]', fontsize = 13)\n",
    "\n",
    "plt.savefig('revision/probando/dataTest_' + test + 'result.png',dpi = 300) \n"
   ]
  },
  {
   "cell_type": "code",
   "execution_count": null,
   "id": "4f918ff2-df4d-4eb6-9ecb-0987ff4042d3",
   "metadata": {},
   "outputs": [],
   "source": []
  },
  {
   "cell_type": "code",
   "execution_count": null,
   "id": "34fbe17f-61be-439b-88d0-5a93c84adf23",
   "metadata": {},
   "outputs": [],
   "source": []
  }
 ],
 "metadata": {
  "kernelspec": {
   "display_name": "Python 3 (ipykernel)",
   "language": "python",
   "name": "python3"
  },
  "language_info": {
   "codemirror_mode": {
    "name": "ipython",
    "version": 3
   },
   "file_extension": ".py",
   "mimetype": "text/x-python",
   "name": "python",
   "nbconvert_exporter": "python",
   "pygments_lexer": "ipython3",
   "version": "3.9.7"
  }
 },
 "nbformat": 4,
 "nbformat_minor": 5
}
